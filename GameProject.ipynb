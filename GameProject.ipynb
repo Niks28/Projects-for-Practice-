{
 "cells": [
  {
   "cell_type": "markdown",
   "id": "7051d639-8aa1-4ced-b585-0a5d88967aa0",
   "metadata": {},
   "source": [
    "# <center> Project - Number Guessing Game in Python - Beginner </center>\n",
    "## <center> Algorithm </center>\n",
    "- User input the **lower bound** and **upper bound** of the range\n",
    "- the compipiler generates a random integer between the range and store it in a variable for future references\n",
    "- For repetitive guessing, a while loop will be initialized\n",
    "- if the user guessed a number which is greated than a randomly selected number , the user gets and output **\"Try Again! You guessed too high\"**\n",
    "- If the user guessed a number which is smaller than a randomly selected number, the user gets and output **\"Try Again! You guessed too small\"**\n",
    "- And if the user guessed in a minimum number of guesses, the user gets a **\"Congratulations!\"** Output.\n",
    "- Else if the user didn't guess the integer in the minimum number of guesses, he/she will get **\"Better Luck Next Time!\"** Output\n",
    "     "
   ]
  },
  {
   "cell_type": "code",
   "execution_count": 4,
   "id": "64d625de-01fe-4ecf-af93-36d18f0bedcf",
   "metadata": {},
   "outputs": [],
   "source": [
    "import random"
   ]
  },
  {
   "cell_type": "code",
   "execution_count": 5,
   "id": "91376662-e4f9-4cb5-814e-fbbdc721fac1",
   "metadata": {},
   "outputs": [],
   "source": [
    "import math"
   ]
  },
  {
   "cell_type": "code",
   "execution_count": 17,
   "id": "9046c27f-37f9-4809-8837-227d32b9ae39",
   "metadata": {},
   "outputs": [
    {
     "name": "stdin",
     "output_type": "stream",
     "text": [
      "Enter Lower Bound:  1\n",
      "Enter Upper Bound:  10\n"
     ]
    },
    {
     "name": "stdout",
     "output_type": "stream",
     "text": [
      "\n",
      "\tYou've only  3 chances to guess the integer ! \n",
      "\n"
     ]
    },
    {
     "name": "stdin",
     "output_type": "stream",
     "text": [
      "Guess a number :-  1\n"
     ]
    },
    {
     "name": "stdout",
     "output_type": "stream",
     "text": [
      "You guessed too small\n"
     ]
    },
    {
     "name": "stdin",
     "output_type": "stream",
     "text": [
      "Guess a number :-  1\n"
     ]
    },
    {
     "name": "stdout",
     "output_type": "stream",
     "text": [
      "You guessed too small\n"
     ]
    },
    {
     "name": "stdin",
     "output_type": "stream",
     "text": [
      "Guess a number :-  1\n"
     ]
    },
    {
     "name": "stdout",
     "output_type": "stream",
     "text": [
      "You guessed too small\n"
     ]
    },
    {
     "name": "stdin",
     "output_type": "stream",
     "text": [
      "Guess a number :-  1\n"
     ]
    },
    {
     "name": "stdout",
     "output_type": "stream",
     "text": [
      "You guessed too small\n",
      "\n",
      " The number is 3\n",
      "\t Better luck Next time!\n"
     ]
    }
   ],
   "source": [
    "# taking inputs\n",
    "lower = int(input(\"Enter Lower Bound: \"))\n",
    "upper = int(input(\"Enter Upper Bound: \"))\n",
    "\n",
    "# generating random number between the lower and upper\n",
    "\n",
    "x = random.randint(lower, upper)\n",
    "print(\"\\n\\tYou've only \", round(math.log(upper - lower + 1, 2)), \"chances to guess the integer ! \\n\")\n",
    "\n",
    "# initializing the number of guesses.\n",
    "count = 0\n",
    "\n",
    "# for guessing the minimum number of guesses depends upon range\n",
    "while count < math.log(upper - lower + 1, 2):\n",
    "    count += 1\n",
    "    \n",
    "    # taking guessing number as input\n",
    "    guess = int(input(\"Guess a number :- \"))\n",
    "    \n",
    "    # condition testing\n",
    "    if x == guess:\n",
    "        print(\"Congratulations you did it in \", count, \"try\")\n",
    "        # once guessed loop will break\n",
    "        break\n",
    "    elif x > guess:\n",
    "        print(\"You guessed too small\")\n",
    "    elif x < guess:\n",
    "        print(\"You guessed too high\")\n",
    "    \n",
    "    # if the guessing is more than the required guessing\n",
    "    \n",
    "    if count >= math.log(upper - lower + 1, 2):\n",
    "        print(\"\\n The number is %d\" %x)\n",
    "        print(\"\\t Better luck Next time!\")\n"
   ]
  },
  {
   "cell_type": "code",
   "execution_count": null,
   "id": "854dc3a9-10ec-46d1-9d7b-2779e5978cbf",
   "metadata": {},
   "outputs": [],
   "source": []
  }
 ],
 "metadata": {
  "kernelspec": {
   "display_name": "Python 3",
   "language": "python",
   "name": "python3"
  },
  "language_info": {
   "codemirror_mode": {
    "name": "ipython",
    "version": 3
   },
   "file_extension": ".py",
   "mimetype": "text/x-python",
   "name": "python",
   "nbconvert_exporter": "python",
   "pygments_lexer": "ipython3",
   "version": "3.6.13"
  }
 },
 "nbformat": 4,
 "nbformat_minor": 5
}
