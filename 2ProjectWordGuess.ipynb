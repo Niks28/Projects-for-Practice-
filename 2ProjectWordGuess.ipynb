{
 "cells": [
  {
   "cell_type": "markdown",
   "id": "c743e15c-9e49-407c-b3d3-0a00287457b5",
   "metadata": {},
   "source": [
    "# <center>  Project - Word Guessing Game </center>"
   ]
  },
  {
   "cell_type": "code",
   "execution_count": 12,
   "id": "fb016505-7718-4928-a028-6a0188ce98a5",
   "metadata": {},
   "outputs": [],
   "source": [
    "import random\n",
    "#library to choose randomly"
   ]
  },
  {
   "cell_type": "code",
   "execution_count": 10,
   "id": "a0d5b16f-03f8-4b2f-bfc6-704a44d24d98",
   "metadata": {},
   "outputs": [
    {
     "name": "stdin",
     "output_type": "stream",
     "text": [
      "What is you name?  jojoj\n"
     ]
    },
    {
     "name": "stdout",
     "output_type": "stream",
     "text": [
      "Good Luck!  jojoj\n",
      "Guess the characters\n",
      "_\n",
      "_\n",
      "_\n",
      "_\n",
      "_\n",
      "\n"
     ]
    },
    {
     "name": "stdin",
     "output_type": "stream",
     "text": [
      "guess a character:  a\n"
     ]
    },
    {
     "name": "stdout",
     "output_type": "stream",
     "text": [
      "Wrong\n",
      "You have 11 more guesses\n",
      "_\n",
      "_\n",
      "_\n",
      "_\n",
      "_\n",
      "\n"
     ]
    },
    {
     "name": "stdin",
     "output_type": "stream",
     "text": [
      "guess a character:  s\n"
     ]
    },
    {
     "name": "stdout",
     "output_type": "stream",
     "text": [
      "_\n",
      "_\n",
      "_\n",
      "_\n",
      "s \n"
     ]
    },
    {
     "name": "stdin",
     "output_type": "stream",
     "text": [
      "guess a character:  p\n"
     ]
    },
    {
     "name": "stdout",
     "output_type": "stream",
     "text": [
      "Wrong\n",
      "You have 10 more guesses\n",
      "_\n",
      "_\n",
      "_\n",
      "_\n",
      "s \n"
     ]
    },
    {
     "name": "stdin",
     "output_type": "stream",
     "text": [
      "guess a character:  g\n"
     ]
    },
    {
     "name": "stdout",
     "output_type": "stream",
     "text": [
      "g _\n",
      "_\n",
      "_\n",
      "s \n"
     ]
    },
    {
     "name": "stdin",
     "output_type": "stream",
     "text": [
      "guess a character:  e\n"
     ]
    },
    {
     "name": "stdout",
     "output_type": "stream",
     "text": [
      "g e e _\n",
      "s \n"
     ]
    },
    {
     "name": "stdin",
     "output_type": "stream",
     "text": [
      "guess a character:  k\n"
     ]
    },
    {
     "name": "stdout",
     "output_type": "stream",
     "text": [
      "g e e k s You win\n",
      "The word is :  geeks\n"
     ]
    }
   ],
   "source": [
    "name = input(\"What is you name? \")\n",
    "print(\"Good Luck! \", name)\n",
    "\n",
    "words = ['rainbow', 'computer', 'science', 'programming', 'python', 'mathematics',\n",
    "        'python', 'mathematics', 'player', 'condition', 'reverse', 'water' , 'board', 'geeks']\n",
    "\n",
    "# function will choose on random word from the above mentioned list of words\n",
    "\n",
    "word = random.choice(words)\n",
    "print(\"Guess the characters\")\n",
    "\n",
    "guesses = ''\n",
    "\n",
    "# any number of turns can be used here\n",
    "turns = 12\n",
    "\n",
    "while turns > 0:\n",
    "    # count the number of times a user fails \n",
    "    failed = 0\n",
    "    # all characters from the input word taking one at a time\n",
    "    for char in word:\n",
    "        # comparing that character with the character in guesses\n",
    "        if char in guesses:\n",
    "            print(char, end = \" \")\n",
    "        else:\n",
    "            print(\"_\") \n",
    "            # for every failure 1 will be incremented in failed\n",
    "            failed += 1\n",
    "    if failed==0:\n",
    "        # user will win the game if failure is 0 and 'You win' will be given as output\n",
    "        print(\"You win\")\n",
    "        \n",
    "        # this print the correct word\n",
    "        print(\"The word is : \", word)\n",
    "        break\n",
    "        \n",
    "    # if user has input the wrong alphabet then it will ask user to enter another alphabet\n",
    "    print()\n",
    "    guess = input(\"guess a character: \")\n",
    "    \n",
    "    # every input character will be stored in guesses\n",
    "    guesses += guess\n",
    "    \n",
    "    # check input with the character in word\n",
    "    if guess not in word:\n",
    "        turns -= 1\n",
    "        \n",
    "        #if the character doesn't match the word then 'wrong' will be given as output\n",
    "        print(\"Wrong\")\n",
    "        \n",
    "        # this will print the number of turns left for the user\n",
    "        print(\"You have\", + turns, 'more guesses')\n",
    "        \n",
    "        if turns == 0:\n",
    "            print(\"You loose\")\n",
    "        "
   ]
  }
 ],
 "metadata": {
  "kernelspec": {
   "display_name": "Python 3",
   "language": "python",
   "name": "python3"
  },
  "language_info": {
   "codemirror_mode": {
    "name": "ipython",
    "version": 3
   },
   "file_extension": ".py",
   "mimetype": "text/x-python",
   "name": "python",
   "nbconvert_exporter": "python",
   "pygments_lexer": "ipython3",
   "version": "3.6.13"
  }
 },
 "nbformat": 4,
 "nbformat_minor": 5
}
